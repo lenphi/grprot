{
 "cells": [
  {
   "cell_type": "markdown",
   "id": "93019047-e259-48c1-a64b-3b0ac104a2c8",
   "metadata": {},
   "source": [
    "# Auswertungen"
   ]
  },
  {
   "cell_type": "code",
   "execution_count": null,
   "id": "acce972b-d5f0-48b1-a979-445d4730f954",
   "metadata": {},
   "outputs": [],
   "source": [
    "Verschiedene Auswertungen des zuvor abgespeicherten files mit den Resultaten der Protokoll-Auswertung"
   ]
  },
  {
   "cell_type": "code",
   "execution_count": 2,
   "id": "f3772608-a7cc-4c9f-bec2-db5927ef374a",
   "metadata": {},
   "outputs": [],
   "source": [
    "import pandas as pd\n",
    "import pickle"
   ]
  },
  {
   "cell_type": "code",
   "execution_count": 9,
   "id": "7e42ac75-852f-48c9-bd9b-59f50c4b0f72",
   "metadata": {},
   "outputs": [],
   "source": [
    "def uber_df_load():\n",
    "    with open('uber_df_backup2.pickle', 'rb') as f:\n",
    "        return pickle.load(f)"
   ]
  },
  {
   "cell_type": "code",
   "execution_count": 10,
   "id": "a0d2ff8b-f98a-4dcb-889f-2f9a3454dd4b",
   "metadata": {},
   "outputs": [],
   "source": [
    "uber_df = uber_df_load()"
   ]
  },
  {
   "cell_type": "code",
   "execution_count": 28,
   "id": "b8b1f798-8403-4677-ba87-e021ebc4abdf",
   "metadata": {},
   "outputs": [],
   "source": [
    "# Liste der Parteien und ihrem jeweiligen Frauenanteil im Zürcher Gemeinderat zu Beginn der Legislatur 2018-2022\n",
    "parteien_liste = [['AL', 50],\n",
    "                  ['EVP', 25],\n",
    "                  ['FDP', 20],\n",
    "                  ['GLP', 28.6],\n",
    "                  ['Grüne', 37.5],\n",
    "                  ['SP', 40.5],\n",
    "                  ['SVP', 18.8]]"
   ]
  },
  {
   "cell_type": "markdown",
   "id": "c47cc1ea-d5f5-4a63-bb9a-085313daa56b",
   "metadata": {},
   "source": [
    "### Redeanteil der Frauen insgesamt"
   ]
  },
  {
   "cell_type": "code",
   "execution_count": 15,
   "id": "8dd8775b-b9a5-42d1-8f12-123421bd00ff",
   "metadata": {},
   "outputs": [
    {
     "name": "stdout",
     "output_type": "stream",
     "text": [
      "Anrede\n",
      "Frau     3720892\n",
      "Herr    11362715\n",
      "Name: Länge, dtype: object\n",
      "24.66844966194094\n"
     ]
    }
   ],
   "source": [
    "# Total length of speeches from men and women\n",
    "gender_group = uber_df.groupby('Anrede')['Länge'].sum()\n",
    "\n",
    "print(gender_group)\n",
    "\n",
    "# Percentage of women's speeches\n",
    "total_length = uber_df['Länge'].sum()\n",
    "percentage_women = gender_group['Frau'] / total_length * 100\n",
    "\n",
    "print(percentage_women)\n"
   ]
  },
  {
   "cell_type": "markdown",
   "id": "7f66a9c8-7fe9-4780-ab56-5c869badc45b",
   "metadata": {},
   "source": [
    "### Anzahl Voten Mann/Frau"
   ]
  },
  {
   "cell_type": "code",
   "execution_count": 24,
   "id": "11a7b2f5-5c4b-48b2-b31f-c16dc31d1d24",
   "metadata": {},
   "outputs": [
    {
     "name": "stdout",
     "output_type": "stream",
     "text": [
      "Herr    7221\n",
      "Frau    2211\n",
      "Name: Anrede, dtype: int64\n",
      "23.44147582697201\n"
     ]
    }
   ],
   "source": [
    "# Total number of speeches by gender\n",
    "gender_count = uber_df['Anrede'].value_counts()\n",
    "\n",
    "print(gender_count)\n",
    "\n",
    "# Percentage of women's speeches\n",
    "total_speeches = uber_df['Anrede'].count()\n",
    "women_speeches = gender_count['Frau']\n",
    "percentage_women = women_speeches / total_speeches * 100\n",
    "\n",
    "print(percentage_women)\n"
   ]
  },
  {
   "cell_type": "markdown",
   "id": "19973e62-0a13-4cc1-ada4-88a28fd5f2d2",
   "metadata": {},
   "source": [
    "### Durchschnittliche Länge eines Votums Mann/Frau in Anzahl Zeichen"
   ]
  },
  {
   "cell_type": "code",
   "execution_count": 20,
   "id": "54e55c01-1098-45e6-9eea-2a922f7f949d",
   "metadata": {},
   "outputs": [
    {
     "name": "stdout",
     "output_type": "stream",
     "text": [
      "Anrede\n",
      "Frau    1682.900045\n",
      "Herr    1573.565296\n",
      "Name: Länge, dtype: float64\n",
      "24.66844966194094\n"
     ]
    }
   ],
   "source": [
    "# Mean length of speeches by gender\n",
    "gender_mean = uber_df.groupby('Anrede')['Länge'].mean()\n",
    "\n",
    "print (gender_mean)"
   ]
  },
  {
   "cell_type": "markdown",
   "id": "b66b01ee-6fac-4c86-a3cc-a271f46ececf",
   "metadata": {},
   "source": [
    "### Auswertung nach Parteien"
   ]
  },
  {
   "cell_type": "code",
   "execution_count": 25,
   "id": "24bdfc11-db45-4b6c-887c-7226b7917d14",
   "metadata": {},
   "outputs": [],
   "source": [
    "# Funktion, welche die Länge aller Voten von Männern und Frauen der jeweiligen Partei ausgibt\n",
    "def parteien (partei):\n",
    "    criteria = uber_df['Partei'] == partei\n",
    "    df = uber_df[criteria]\n",
    "    grouped = df.groupby('Anrede')\n",
    "    result = grouped['Länge'].sum()\n",
    "    result = result.reset_index()\n",
    "    total = result['Länge'].sum()\n",
    "    result['Percentage'] = result['Länge'] / total * 100\n",
    "    return (result.sort_values(by='Länge', ascending=False))"
   ]
  },
  {
   "cell_type": "code",
   "execution_count": 26,
   "id": "0d0b54f5-cd19-429d-b362-bbbd5f166fd6",
   "metadata": {},
   "outputs": [],
   "source": [
    "# Funktion, welche die RednerInnen der jeweiligen Partei und die Gesamtlänge ihrer Voten ausgibt\n",
    "def parteien2 (partei):\n",
    "    criteria = uber_df['Partei'] == partei\n",
    "    df = uber_df[criteria]\n",
    "    grouped = df.groupby('Name')\n",
    "    result = grouped['Länge'].sum()\n",
    "    return (result.sort_values(ascending=False))"
   ]
  },
  {
   "cell_type": "code",
   "execution_count": 35,
   "id": "2b730cec-3506-46c9-b5ce-e6efa8e23559",
   "metadata": {},
   "outputs": [
    {
     "name": "stdout",
     "output_type": "stream",
     "text": [
      "AL\n",
      "Frauenanteil bei den Sitzen in Prozent: 50\n",
      "  Anrede    Länge Percentage\n",
      "1   Herr  1271774  70.945104\n",
      "0   Frau   520843  29.054896\n",
      "\n",
      "Name\n",
      "Walter Angst                506370\n",
      "David Garcia Nuñez          264189\n",
      "Natalie Eberle              143758\n",
      "Andreas Kirstein            140674\n",
      "Patrik Maillard             129812\n",
      "Andrea Leitner Verhoeven    114187\n",
      "Christina Schiller          113935\n",
      "Willi Wottreng               96686\n",
      "Olivia Romanelli             86577\n",
      "Mischa Schiwow               85365\n",
      "Eduard Guggenheim            41693\n",
      "Ezgi Akyol                   41440\n",
      "Regula Fischer Svosve        11140\n",
      "Rosa Maino                    9806\n",
      "Niklaus Scherr                6985\n",
      "Name: Länge, dtype: object\n",
      "\n",
      "EVP\n",
      "Frauenanteil bei den Sitzen in Prozent: 25\n",
      "  Anrede   Länge Percentage\n",
      "1   Herr  410973  84.798945\n",
      "0   Frau   73671  15.201055\n",
      "\n",
      "Name\n",
      "Ernst Danner          347207\n",
      "Claudia Rabelbauer     73671\n",
      "Peter Anderegg         55131\n",
      "Roger Föhn              8635\n",
      "Name: Länge, dtype: object\n",
      "\n",
      "FDP\n",
      "Frauenanteil bei den Sitzen in Prozent: 20\n",
      "  Anrede    Länge Percentage\n",
      "1   Herr  1608913  68.302984\n",
      "0   Frau   746640  31.697016\n",
      "\n",
      "Name\n",
      "Yasmine Bourgeois      349373\n",
      "Andreas Egli           277667\n",
      "Severin Pflüger        191780\n",
      "Michael Schmid         166004\n",
      "Përparim Avdili        144560\n",
      "Elisabeth Schoch       143007\n",
      "Dominique Zygmont      133180\n",
      "Cathrine Pauli         105619\n",
      "Christian Huser         99338\n",
      "Hans Dellenbach         86147\n",
      "Raphaël Tschanz         81965\n",
      "Martina Zürcher         79950\n",
      "Alexander Brunner       66894\n",
      "Martin Bürki            66037\n",
      "Andri Silberschmidt     63080\n",
      "Urs Egger               39781\n",
      "Sebastian Vogel         34632\n",
      "Frank Rühli             34084\n",
      "Roger Tognella          32023\n",
      "Marcel Müller           29823\n",
      "Sabine Koch             27034\n",
      "Mélissa Dufournet       26978\n",
      "Flurin Capaul           16105\n",
      "Corina Ursprung         14679\n",
      "Albert Leiser           14137\n",
      "Raphael Kobler          11854\n",
      "Pablo Bünger             9722\n",
      "Thomas Kleger            6101\n",
      "Patrik Brunner           3999\n",
      "Name: Länge, dtype: object\n",
      "\n",
      "GLP\n",
      "Frauenanteil bei den Sitzen in Prozent: 28.6\n",
      "  Anrede    Länge Percentage\n",
      "1   Herr  1078249  69.275105\n",
      "0   Frau   478225  30.724895\n",
      "\n",
      "Name\n",
      "Sven Sobernheim          374701\n",
      "Ann-Catherine Nabholz    228882\n",
      "Isabel Garcia            136838\n",
      "Markus Baumann           123636\n",
      "Shaibal Roy              119682\n",
      "Nicolas Cavalli           77795\n",
      "Markus Merki              68594\n",
      "Ronny Siev                68148\n",
      "Pirmin Meyer              54088\n",
      "Beat Oberholzer           52715\n",
      "Simone Hofer Frei         50568\n",
      "Christian Monn            45020\n",
      "Guido Hüni                43800\n",
      "Guy Krayenbühl            41085\n",
      "Martina Novak             30191\n",
      "Maleica Landolt           23233\n",
      "Matthias Wiesmann          8985\n",
      "Corina Gredig              8513\n",
      "Name: Länge, dtype: object\n",
      "\n",
      "Grüne\n",
      "Frauenanteil bei den Sitzen in Prozent: 37.5\n",
      "  Anrede    Länge Percentage\n",
      "1   Herr  2019368  82.714474\n",
      "0   Frau   422004  17.285526\n",
      "\n",
      "Name\n",
      "Balz Bürgisser             471032\n",
      "Markus Knauss              313428\n",
      "Luca Maggi                 234937\n",
      "Markus Kunz                203662\n",
      "Felix Moser                200807\n",
      "Urs Riklin                 186957\n",
      "Matthias Probst            116627\n",
      "Res Marti                  106479\n",
      "Marcel Bührig               97694\n",
      "Gabriele Kisker             95398\n",
      "Katharina Prelicz-Huber     82305\n",
      "Brigitte Fürer              75058\n",
      "Elena Marti                 45749\n",
      "Selina Walgis               43770\n",
      "Monika Bätschmann           38528\n",
      "Jürg Rauser                 31691\n",
      "Julia Hofstetter            24445\n",
      "Simon Kälin-Werth           23240\n",
      "Roland Hurschler            16103\n",
      "Sibylle Kauer               15131\n",
      "Muammer Kurtulmus           13464\n",
      "Roland Hohmann               3247\n",
      "Karin Meier-Bohrer           1620\n",
      "Name: Länge, dtype: object\n",
      "\n",
      "SP\n",
      "Frauenanteil bei den Sitzen in Prozent: 40.5\n",
      "  Anrede    Länge Percentage\n",
      "1   Herr  2066719  61.964528\n",
      "0   Frau  1268607  38.035472\n",
      "\n",
      "Name\n",
      "Alan David Sangines      201672\n",
      "Florian Utz              195414\n",
      "Mark Richli              195223\n",
      "Marco Denoth             150867\n",
      "Maya Kägi Götz           150032\n",
      "Simone Brander           132327\n",
      "Hans Jörg Käppeli        124470\n",
      "Patrick Hadi Huber       121497\n",
      "Christine Seidler        117576\n",
      "Pascal Lamprecht         112883\n",
      "Marion Schmid            112687\n",
      "Jean-Daniel Strub        102483\n",
      "Renate Fischer            93410\n",
      "Davy Graf                 92603\n",
      "Nicole Giger              81898\n",
      "Urs Helfenstein           80774\n",
      "Michael Kraft             71668\n",
      "Marco Geissbühler         70100\n",
      "Florian Blättler          67780\n",
      "Pawel Silberring          64090\n",
      "Mathias Manz              61177\n",
      "Sarah Breitenstein        58783\n",
      "Vera Ziswiler             55425\n",
      "Natascha Wey              54024\n",
      "Barbara Wiesmann          53802\n",
      "Anjushka Früh             53469\n",
      "Marcel Tobler             51929\n",
      "Mathias Egloff            51749\n",
      "Ursula Näf                49920\n",
      "Duri Beer                 47477\n",
      "Simon Diggelmann          45914\n",
      "Heidi Egger               42697\n",
      "Sofia Karakostas          42671\n",
      "Severin Meier             39764\n",
      "Roger-Paul Speck          34274\n",
      "Nadia Huberson            29133\n",
      "Marcel Savarioud          27357\n",
      "Marianne Aubert           24357\n",
      "Dorothea Frei             22717\n",
      "Judith Boppart            22086\n",
      "Christina Horisberger     21713\n",
      "Zilla Roose               18733\n",
      "Matthias Renggli          18529\n",
      "Helen Glaser              13293\n",
      "Gabriela Rothenfluh       12694\n",
      "Ivo Bieri                 10787\n",
      "Michel Urben               9132\n",
      "Felix Stocker              6172\n",
      "Joe A. Manser              5807\n",
      "Reis Luzhnica              5127\n",
      "Lisa Diggelmann            4657\n",
      "Angelica Eichenberger       503\n",
      "Name: Länge, dtype: object\n",
      "\n",
      "SVP\n",
      "Frauenanteil bei den Sitzen in Prozent: 18.8\n",
      "  Anrede    Länge Percentage\n",
      "1   Herr  2904258  93.229818\n",
      "0   Frau   210902   6.770182\n",
      "\n",
      "Name\n",
      "Stefan Urech                461976\n",
      "Roger Bartholdi             364020\n",
      "Stephan Iten                349584\n",
      "Samuel Balsiger             309051\n",
      "Bernhard im Oberdorf        256286\n",
      "Martin Götzl                218981\n",
      "Walter Anken                180836\n",
      "Derek Richter               175179\n",
      "Susanne Brunner             157177\n",
      "Johann Widmer               134645\n",
      "Christoph Marty              89415\n",
      "Dubravko Sinovcic            78749\n",
      "Rolf Müller                  53467\n",
      "Thomas Schwendener           44924\n",
      "Reto Brüesch                 43985\n",
      "Maria del Carmen Señorán     43890\n",
      "Peter Schick                 28377\n",
      "Jean-Marc Jung               27448\n",
      "Urs Fehr                     21977\n",
      "Attila Kipfer                20892\n",
      "Roberto Bertozzi             20678\n",
      "Emanuel Eugster              15092\n",
      "Elisabeth Liebi               9835\n",
      "Sebastian Zopfi               7164\n",
      "Heinz Schatt                  1532\n",
      "Name: Länge, dtype: object\n",
      "\n"
     ]
    }
   ],
   "source": [
    "# Schlaufe, welche die beiden vorherigen Funktionen nutzt und über die Liste der Parteien iteriert\n",
    "results = []\n",
    "results2 = []\n",
    "for i in parteien_liste:\n",
    "    partei = i[0]\n",
    "    frauenanteil = i[1]\n",
    "    result = parteien(partei)\n",
    "    results.append(result)\n",
    "    print(partei)\n",
    "    print('Frauenanteil bei den Sitzen in Prozent: ' +str(frauenanteil))\n",
    "    print(result) \n",
    "    print()\n",
    "    result2 = parteien2(partei)\n",
    "    results2.append(result2)\n",
    "    print(result2)\n",
    "    print()"
   ]
  },
  {
   "cell_type": "markdown",
   "id": "c8858d49-7dc1-4af0-8423-f3ddf54148ff",
   "metadata": {},
   "source": [
    "### Anzahl Wortmeldungen pro Person"
   ]
  },
  {
   "cell_type": "code",
   "execution_count": 30,
   "id": "b0bda4a4-58d2-4152-b04d-a84e33b5b265",
   "metadata": {},
   "outputs": [],
   "source": [
    "name_counts = uber_df['Name'].value_counts()"
   ]
  },
  {
   "cell_type": "code",
   "execution_count": 31,
   "id": "2aad800f-ebeb-4793-bbe9-ddca2926b455",
   "metadata": {},
   "outputs": [
    {
     "name": "stdout",
     "output_type": "stream",
     "text": [
      "Stefan Urech             322\n",
      "Sven Sobernheim          311\n",
      "Walter Angst             287\n",
      "Roger Bartholdi          281\n",
      "Stephan Iten             257\n",
      "Ernst Danner             246\n",
      "Samuel Balsiger          223\n",
      "Andreas Egli             201\n",
      "Yasmine Bourgeois        190\n",
      "Bernhard im Oberdorf     187\n",
      "Balz Bürgisser           187\n",
      "Mark Richli              178\n",
      "Markus Knauss            150\n",
      "Florian Utz              144\n",
      "Felix Moser              134\n",
      "Severin Pflüger          131\n",
      "Isabel Garcia            130\n",
      "Walter Anken             127\n",
      "Michael Schmid           124\n",
      "Shaibal Roy              120\n",
      "Ann-Catherine Nabholz    116\n",
      "Derek Richter            115\n",
      "Martin Götzl             105\n",
      "Alan David Sangines      105\n",
      "Johann Widmer            104\n",
      "Res Marti                 99\n",
      "Natalie Eberle            96\n",
      "Elisabeth Schoch          94\n",
      "Luca Maggi                91\n",
      "Dominique Zygmont         91\n",
      "Name: Name, dtype: int64\n"
     ]
    }
   ],
   "source": [
    "print(name_counts.head(30))"
   ]
  },
  {
   "cell_type": "code",
   "execution_count": 32,
   "id": "e0e4500c-a10e-4784-9214-5f08b790441a",
   "metadata": {},
   "outputs": [],
   "source": [
    "name_counts = uber_df['Anrede'].value_counts()"
   ]
  },
  {
   "cell_type": "code",
   "execution_count": 33,
   "id": "bd1c79b3-2ba3-4cea-9d6a-a157a889bceb",
   "metadata": {},
   "outputs": [
    {
     "name": "stdout",
     "output_type": "stream",
     "text": [
      "Herr    7221\n",
      "Frau    2211\n",
      "Name: Anrede, dtype: int64\n"
     ]
    }
   ],
   "source": [
    "print(name_counts)"
   ]
  },
  {
   "cell_type": "code",
   "execution_count": null,
   "id": "bd245625-9470-433a-bcb0-22b39f54b086",
   "metadata": {},
   "outputs": [],
   "source": []
  }
 ],
 "metadata": {
  "kernelspec": {
   "display_name": "Python 3 (ipykernel)",
   "language": "python",
   "name": "python3"
  },
  "language_info": {
   "codemirror_mode": {
    "name": "ipython",
    "version": 3
   },
   "file_extension": ".py",
   "mimetype": "text/x-python",
   "name": "python",
   "nbconvert_exporter": "python",
   "pygments_lexer": "ipython3",
   "version": "3.9.2"
  }
 },
 "nbformat": 4,
 "nbformat_minor": 5
}
