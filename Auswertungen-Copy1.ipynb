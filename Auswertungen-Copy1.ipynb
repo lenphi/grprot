{
 "cells": [
  {
   "cell_type": "markdown",
   "id": "93019047-e259-48c1-a64b-3b0ac104a2c8",
   "metadata": {},
   "source": [
    "Auswertungen"
   ]
  },
  {
   "cell_type": "code",
   "execution_count": 3,
   "id": "f3772608-a7cc-4c9f-bec2-db5927ef374a",
   "metadata": {},
   "outputs": [],
   "source": [
    "import pandas as pd\n",
    "import pickle"
   ]
  },
  {
   "cell_type": "code",
   "execution_count": 4,
   "id": "7e42ac75-852f-48c9-bd9b-59f50c4b0f72",
   "metadata": {},
   "outputs": [],
   "source": [
    "def uber_df_load():\n",
    "    with open('uber_df.pickle', 'rb') as f:\n",
    "        return pickle.load(f)"
   ]
  },
  {
   "cell_type": "code",
   "execution_count": 8,
   "id": "a0d2ff8b-f98a-4dcb-889f-2f9a3454dd4b",
   "metadata": {},
   "outputs": [],
   "source": [
    "uber_df = uber_df_load()"
   ]
  },
  {
   "cell_type": "code",
   "execution_count": 4,
   "id": "01508e85-b295-4d58-88f7-2f785246df8a",
   "metadata": {},
   "outputs": [
    {
     "data": {
      "text/html": [
       "<div>\n",
       "<style scoped>\n",
       "    .dataframe tbody tr th:only-of-type {\n",
       "        vertical-align: middle;\n",
       "    }\n",
       "\n",
       "    .dataframe tbody tr th {\n",
       "        vertical-align: top;\n",
       "    }\n",
       "\n",
       "    .dataframe thead th {\n",
       "        text-align: right;\n",
       "    }\n",
       "</style>\n",
       "<table border=\"1\" class=\"dataframe\">\n",
       "  <thead>\n",
       "    <tr style=\"text-align: right;\">\n",
       "      <th></th>\n",
       "      <th>Anrede</th>\n",
       "      <th>Name</th>\n",
       "      <th>Partei</th>\n",
       "      <th>Geburtsdatum</th>\n",
       "      <th>Sitzung</th>\n",
       "      <th>Länge</th>\n",
       "      <th>Id</th>\n",
       "      <th>nampi</th>\n",
       "    </tr>\n",
       "  </thead>\n",
       "  <tbody>\n",
       "    <tr>\n",
       "      <th>0</th>\n",
       "      <td>Herr</td>\n",
       "      <td>David Garcia Nuñez</td>\n",
       "      <td>AL</td>\n",
       "      <td>1975-05-16</td>\n",
       "      <td>20180523002</td>\n",
       "      <td>455</td>\n",
       "      <td>4a1be35e-3f69-48a4-85b1-3fee07b006ae</td>\n",
       "      <td>David Garcia NuñezAL</td>\n",
       "    </tr>\n",
       "    <tr>\n",
       "      <th>1</th>\n",
       "      <td>Herr</td>\n",
       "      <td>Michael Schmid</td>\n",
       "      <td>FDP</td>\n",
       "      <td>1976-05-21</td>\n",
       "      <td>20180523002</td>\n",
       "      <td>292</td>\n",
       "      <td>f68282d3-d683-48cf-ade1-c08da3dd76da</td>\n",
       "      <td>Michael SchmidFDP</td>\n",
       "    </tr>\n",
       "    <tr>\n",
       "      <th>2</th>\n",
       "      <td>Frau</td>\n",
       "      <td>Heidi Egger</td>\n",
       "      <td>SP</td>\n",
       "      <td>1962-12-15</td>\n",
       "      <td>20180523002</td>\n",
       "      <td>1432</td>\n",
       "      <td>70c4fb44-48da-47b2-b24e-aaf500c1e78c</td>\n",
       "      <td>Heidi EggerSP</td>\n",
       "    </tr>\n",
       "    <tr>\n",
       "      <th>3</th>\n",
       "      <td>Herr</td>\n",
       "      <td>Stephan Iten</td>\n",
       "      <td>SVP</td>\n",
       "      <td>1979-01-10</td>\n",
       "      <td>20180523002</td>\n",
       "      <td>1858</td>\n",
       "      <td>ce8041b1-19af-4e73-8c30-0b2577592bbd</td>\n",
       "      <td>Stephan ItenSVP</td>\n",
       "    </tr>\n",
       "    <tr>\n",
       "      <th>4</th>\n",
       "      <td>Herr</td>\n",
       "      <td>Thomas Kleger</td>\n",
       "      <td>FDP</td>\n",
       "      <td>1980-09-12</td>\n",
       "      <td>20180523002</td>\n",
       "      <td>286</td>\n",
       "      <td>510f49c8-76b0-4c37-a031-518867986a26</td>\n",
       "      <td>Thomas KlegerFDP</td>\n",
       "    </tr>\n",
       "    <tr>\n",
       "      <th>...</th>\n",
       "      <td>...</td>\n",
       "      <td>...</td>\n",
       "      <td>...</td>\n",
       "      <td>...</td>\n",
       "      <td>...</td>\n",
       "      <td>...</td>\n",
       "      <td>...</td>\n",
       "      <td>...</td>\n",
       "    </tr>\n",
       "    <tr>\n",
       "      <th>13</th>\n",
       "      <td>Herr</td>\n",
       "      <td>Markus Baumann</td>\n",
       "      <td>GLP</td>\n",
       "      <td>1973-09-19</td>\n",
       "      <td>20220413194</td>\n",
       "      <td>3011</td>\n",
       "      <td>32e89ef8-f5b2-46e5-aafe-7dd15929f00a</td>\n",
       "      <td>Markus BaumannGLP</td>\n",
       "    </tr>\n",
       "    <tr>\n",
       "      <th>14</th>\n",
       "      <td>Herr</td>\n",
       "      <td>Alan David Sangines</td>\n",
       "      <td>SP</td>\n",
       "      <td>1986-05-09</td>\n",
       "      <td>20220413194</td>\n",
       "      <td>4191</td>\n",
       "      <td>3c84712a-df95-48f7-b76e-d95540209bdb</td>\n",
       "      <td>Alan David SanginesSP</td>\n",
       "    </tr>\n",
       "    <tr>\n",
       "      <th>15</th>\n",
       "      <td>Herr</td>\n",
       "      <td>David Garcia Nuñez</td>\n",
       "      <td>AL</td>\n",
       "      <td>1975-05-16</td>\n",
       "      <td>20220413194</td>\n",
       "      <td>883</td>\n",
       "      <td>4a1be35e-3f69-48a4-85b1-3fee07b006ae</td>\n",
       "      <td>David Garcia NuñezAL</td>\n",
       "    </tr>\n",
       "    <tr>\n",
       "      <th>16</th>\n",
       "      <td>Herr</td>\n",
       "      <td>Mischa Schiwow</td>\n",
       "      <td>AL</td>\n",
       "      <td>1961-08-31</td>\n",
       "      <td>20220413194</td>\n",
       "      <td>3602</td>\n",
       "      <td>ddcd41f6-9873-4002-80d8-dfd87114c9a5</td>\n",
       "      <td>Mischa SchiwowAL</td>\n",
       "    </tr>\n",
       "    <tr>\n",
       "      <th>17</th>\n",
       "      <td>Herr</td>\n",
       "      <td>Mischa Schiwow</td>\n",
       "      <td>AL</td>\n",
       "      <td>1961-08-31</td>\n",
       "      <td>20220413194</td>\n",
       "      <td>4240</td>\n",
       "      <td>ddcd41f6-9873-4002-80d8-dfd87114c9a5</td>\n",
       "      <td>Mischa SchiwowAL</td>\n",
       "    </tr>\n",
       "  </tbody>\n",
       "</table>\n",
       "<p>9185 rows × 8 columns</p>\n",
       "</div>"
      ],
      "text/plain": [
       "   Anrede                 Name Partei Geburtsdatum      Sitzung Länge  \\\n",
       "0    Herr   David Garcia Nuñez     AL   1975-05-16  20180523002   455   \n",
       "1    Herr       Michael Schmid    FDP   1976-05-21  20180523002   292   \n",
       "2    Frau          Heidi Egger     SP   1962-12-15  20180523002  1432   \n",
       "3    Herr         Stephan Iten    SVP   1979-01-10  20180523002  1858   \n",
       "4    Herr        Thomas Kleger    FDP   1980-09-12  20180523002   286   \n",
       "..    ...                  ...    ...          ...          ...   ...   \n",
       "13   Herr       Markus Baumann    GLP   1973-09-19  20220413194  3011   \n",
       "14   Herr  Alan David Sangines     SP   1986-05-09  20220413194  4191   \n",
       "15   Herr   David Garcia Nuñez     AL   1975-05-16  20220413194   883   \n",
       "16   Herr       Mischa Schiwow     AL   1961-08-31  20220413194  3602   \n",
       "17   Herr       Mischa Schiwow     AL   1961-08-31  20220413194  4240   \n",
       "\n",
       "                                      Id                  nampi  \n",
       "0   4a1be35e-3f69-48a4-85b1-3fee07b006ae   David Garcia NuñezAL  \n",
       "1   f68282d3-d683-48cf-ade1-c08da3dd76da      Michael SchmidFDP  \n",
       "2   70c4fb44-48da-47b2-b24e-aaf500c1e78c          Heidi EggerSP  \n",
       "3   ce8041b1-19af-4e73-8c30-0b2577592bbd        Stephan ItenSVP  \n",
       "4   510f49c8-76b0-4c37-a031-518867986a26       Thomas KlegerFDP  \n",
       "..                                   ...                    ...  \n",
       "13  32e89ef8-f5b2-46e5-aafe-7dd15929f00a      Markus BaumannGLP  \n",
       "14  3c84712a-df95-48f7-b76e-d95540209bdb  Alan David SanginesSP  \n",
       "15  4a1be35e-3f69-48a4-85b1-3fee07b006ae   David Garcia NuñezAL  \n",
       "16  ddcd41f6-9873-4002-80d8-dfd87114c9a5       Mischa SchiwowAL  \n",
       "17  ddcd41f6-9873-4002-80d8-dfd87114c9a5       Mischa SchiwowAL  \n",
       "\n",
       "[9185 rows x 8 columns]"
      ]
     },
     "execution_count": 4,
     "metadata": {},
     "output_type": "execute_result"
    }
   ],
   "source": [
    "uber_df"
   ]
  },
  {
   "cell_type": "code",
   "execution_count": 15,
   "id": "8dd8775b-b9a5-42d1-8f12-123421bd00ff",
   "metadata": {},
   "outputs": [
    {
     "name": "stdout",
     "output_type": "stream",
     "text": [
      "['Alan David Sangines (SP)', 'Albert Leiser (FDP)', 'Alexander Brunner (FDP)', 'Andrea Leitner Verhoeven (AL)', 'Andreas Egli (FDP)', 'Andreas Kirstein (AL)', 'Andri Silberschmidt (FDP)', 'Angelica Eichenberger (SP)', 'Anjushka Früh (SP)', 'Ann-Catherine Nabholz (GLP)', 'Attila Kipfer (SVP)', 'Balz Bürgisser (Grüne)', 'Barbara Wiesmann (SP)', 'Beat Oberholzer (GLP)', 'Bernhard im Oberdorf (SVP)', 'Brigitte Fürer (Grüne)', 'Cathrine Pauli (FDP)', 'Christian Huser (FDP)', 'Christian Monn (GLP)', 'Christina Horisberger (SP)', 'Christina Schiller (AL)', 'Christine Seidler (SP)', 'Christoph Marty (SVP)', 'Claudia Rabelbauer (EVP)', 'Corina Gredig (GLP)', 'Corina Ursprung (FDP)', 'David Garcia Nuñez (AL)', 'Davy Graf (SP)', 'Derek Richter (SVP)', 'Dominique Zygmont (FDP)', 'Dorothea Frei (SP)', 'Dubravko Sinovcic (SVP)', 'Duri Beer (SP)', 'Eduard Guggenheim (AL)', 'Elena Marti (Grüne)', 'Elisabeth Liebi (SVP)', 'Elisabeth Schoch (FDP)', 'Emanuel Eugster (SVP)', 'Ernst Danner (EVP)', 'Ezgi Akyol (AL)', 'Felix Moser (Grüne)', 'Felix Stocker (SP)', 'Florian Blättler (SP)', 'Florian Utz (SP)', 'Flurin Capaul (FDP)', 'Frank Rühli (FDP)', 'Gabriela Rothenfluh (SP)', 'Gabriele Kisker (Grüne)', 'Guido Hüni (GLP)', 'Guy Krayenbühl (GLP)', 'Hans Dellenbach (FDP)', 'Hans Jörg Käppeli (SP)', 'Heidi Egger (SP)', 'Heinz Schatt (SVP)', 'Helen Glaser (SP)', 'Isabel Garcia (GLP)', 'Ivo Bieri (SP)', 'Jean-Daniel Strub (SP)', 'Jean-Marc Jung (SVP)', 'Joe A. Manser (SP)', 'Johann Widmer (SVP)', 'Judith Boppart (SP)', 'Julia Hofstetter (Grüne)', 'Jürg Rauser (Grüne)', 'Karin Meier-Bohrer (Grüne)', 'Katharina Prelicz-Huber (Grüne)', 'Lisa Diggelmann (SP)', 'Luca Maggi (Grüne)', 'Maleica Landolt (GLP)', 'Marcel Bührig (Grüne)', 'Marcel Müller (FDP)', 'Marcel Savarioud (SP)', 'Marcel Tobler (SP)', 'Marco Denoth (SP)', 'Marco Geissbühler (SP)', 'Maria del Carmen Señorán (SVP)', 'Marianne Aubert (SP)', 'Marion Schmid (SP)', 'Mark Richli (SP)', 'Markus Baumann (GLP)', 'Markus Knauss (Grüne)', 'Markus Kunz (Grüne)', 'Markus Merki (GLP)', 'Martin Bürki (FDP)', 'Martin Götzl (SVP)', 'Martina Novak (GLP)', 'Martina Zürcher (FDP)', 'Mathias Egloff (SP)', 'Mathias Manz (SP)', 'Matthias Probst (Grüne)', 'Matthias Renggli (SP)', 'Matthias Wiesmann (GLP)', 'Maya Kägi Götz (SP)', 'Michael Graff (Parteilos)', 'Michael Kraft (SP)', 'Michael Schmid (FDP)', 'Michel Urben (SP)', 'Mischa Schiwow (AL)', 'Monika Bätschmann (Grüne)', 'Muammer Kurtulmus (Grüne)', 'Mélissa Dufournet (FDP)', 'Nadia Huberson (SP)', 'Natalie Eberle (AL)', 'Natascha Wey (SP)', 'Nicolas Cavalli (GLP)', 'Nicole Giger (SP)', 'Niklaus Scherr (AL)', 'Olivia Romanelli (AL)', 'Pablo Bünger (FDP)', 'Pascal Lamprecht (SP)', 'Patrick Hadi Huber (SP)', 'Patrik Brunner (FDP)', 'Patrik Maillard (AL)', 'Pawel Silberring (SP)', 'Peter Anderegg (EVP)', 'Peter Schick (SVP)', 'Pirmin Meyer (GLP)', 'Përparim Avdili (FDP)', 'Raphael Kobler (FDP)', 'Raphaël Tschanz (FDP)', 'Raphaël Tschanz (FPD)', 'Regula Fischer Svosve (AL)', 'Reis Luzhnica (SP)', 'Renate Fischer (SP)', 'Res Marti (Grüne)', 'Reto Brüesch (SVP)', 'Roberto Bertozzi (SVP)', 'Roger Bartholdi (SVP)', 'Roger Föhn (EVP)', 'Roger Tognella (FDP)', 'Roger-Paul Speck (SP)', 'Roland Hohmann (Grüne)', 'Roland Hurschler (Grüne)', 'Rolf Müller (SVP)', 'Ronny Siev (GLP)', 'Rosa Maino (AL)', 'Sabine Koch (FDP)', 'Samuel Balsiger (SVP)', 'Sarah Breitenstein (SP)', 'Sebastian Vogel (FDP)', 'Sebastian Zopfi (SVP)', 'Selina Walgis (Grüne)', 'Severin Meier (SP)', 'Severin Pflüger (FDP)', 'Shaibal Roy (GLP)', 'Sibylle Kauer (Grüne)', 'Simon Diggelmann (SP)', 'Simon Kälin-Werth (Grüne)', 'Simone Brander (SP)', 'Simone Hofer Frei (GLP)', 'Sofia Karakostas (SP)', 'Stefan Urech (SVP)', 'Stephan Iten (SVP)', 'Susanne Brunner (SVP)', 'Sven Sobernheim (GLP)', 'Thomas Kleger (FDP)', 'Thomas Schwendener (SVP)', 'Urs Egger (FDP)', 'Urs Fehr (SVP)', 'Urs Helfenstein (SP)', 'Urs Riklin (Grüne)', 'Ursula Näf (SP)', 'Vera Ziswiler (SP)', 'Walter Angst (AL)', 'Walter Anken (SVP)', 'Willi Wottreng (AL)', 'Yasmine Bourgeois (FDP)', 'Zilla Roose (SP)', 'nan (nan)']\n"
     ]
    }
   ],
   "source": [
    "import pandas as pd\n",
    "\n",
    "def convert_df_to_list(df):\n",
    "    result = []\n",
    "    for index, row in df.iterrows():\n",
    "        name = row[\"Name\"]\n",
    "        partei = row[\"Partei\"]\n",
    "        entry = f\"{name} ({partei})\"\n",
    "        if entry not in result:\n",
    "            result.append(entry)\n",
    "    result.sort()\n",
    "    return result\n",
    "\n",
    "df = uber_df\n",
    "list = convert_df_to_list(df)\n",
    "print(list)\n",
    "with open(\"list_file.txt\", \"w\") as file:\n",
    "    for item in list:\n",
    "        file.write(item + \"\\n\")"
   ]
  },
  {
   "cell_type": "code",
   "execution_count": null,
   "id": "b5ad08c2-adfc-4ff6-97b9-e7e1a176075f",
   "metadata": {},
   "outputs": [],
   "source": [
    "convert_df_to_list(uber_df)"
   ]
  },
  {
   "cell_type": "code",
   "execution_count": 13,
   "id": "b021817f-53de-4c6d-bd95-e46a9fb22dd5",
   "metadata": {},
   "outputs": [
    {
     "data": {
      "text/plain": [
       "169"
      ]
     },
     "execution_count": 13,
     "metadata": {},
     "output_type": "execute_result"
    }
   ],
   "source": [
    "len(list)"
   ]
  },
  {
   "cell_type": "code",
   "execution_count": null,
   "id": "f2e80ba0-f49c-48af-9ba6-f7b6e37a1789",
   "metadata": {},
   "outputs": [],
   "source": []
  }
 ],
 "metadata": {
  "kernelspec": {
   "display_name": "Python 3 (ipykernel)",
   "language": "python",
   "name": "python3"
  },
  "language_info": {
   "codemirror_mode": {
    "name": "ipython",
    "version": 3
   },
   "file_extension": ".py",
   "mimetype": "text/x-python",
   "name": "python",
   "nbconvert_exporter": "python",
   "pygments_lexer": "ipython3",
   "version": "3.9.2"
  }
 },
 "nbformat": 4,
 "nbformat_minor": 5
}
