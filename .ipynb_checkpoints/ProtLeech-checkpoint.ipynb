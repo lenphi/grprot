{
 "cells": [
  {
   "cell_type": "code",
   "execution_count": 1,
   "id": "2866c054-49d5-4bd8-8a8c-e9ffd36ff53f",
   "metadata": {},
   "outputs": [],
   "source": [
    "import requests as re\n",
    "import json"
   ]
  },
  {
   "cell_type": "code",
   "execution_count": 2,
   "id": "5399005c-c2ce-43b8-802d-fecff9324b72",
   "metadata": {},
   "outputs": [],
   "source": [
    "SSL_VERIFY = True"
   ]
  },
  {
   "cell_type": "code",
   "execution_count": 3,
   "id": "0da62dad-7a43-4ab1-b0da-2a0f4cbd3c32",
   "metadata": {},
   "outputs": [],
   "source": [
    "# Variablen\n",
    "endpunkt_suche = 'https://www.gemeinderat-zuerich.ch/api/Protokoll?'\n",
    "endpunkt_leech = 'https://www.gemeinderat-zuerich.ch/DocumentLoader.aspx?'\n",
    "datumVon = '09.05.2018'\n",
    "datumBis = '04.05.2022'\n",
    "headers = {'Accept': 'application/json'}\n",
    "gpath = '/home/pi/Documents/Gemeinderat/2018/'"
   ]
  },
  {
   "cell_type": "code",
   "execution_count": 4,
   "id": "73908ac6-80b3-427c-b2ec-c67b7e2bcc71",
   "metadata": {},
   "outputs": [],
   "source": [
    "# Funktion, die alle Protokolle innerhalb der definierten Daten herunterlädt\n",
    "\n",
    "def uberleech (von, bis): # von und bis müssen strings sein\n",
    "# Resultate für Datumsbereich holen\n",
    "    r = re.get(endpunkt_suche +'datumVon=' +von +'&' +'datumBis=' +bis, headers=headers, verify=SSL_VERIFY)\n",
    "    results = r.json()\n",
    "\n",
    "# Resultate filtern (nur substanziell) und gleich downloaden und speichern\n",
    "    results_final=[]\n",
    "    search_for = 'substanziell.pdf'\n",
    "    for x in results:\n",
    "        if search_for in x['FileName']: #falls substanziell...\n",
    "            url = endpunkt_leech +'Typ=protokoll&' +'ID=' +str(x['Id']) +'&FileName=' +x['FileName'] # URL für Download generieren\n",
    "            r = re.get(url, verify=SSL_VERIFY) # downloaden\n",
    "            dest = gpath +x['FileName'] # Zielfile\n",
    "            with open(dest, 'wb') as file: # Schreiben\n",
    "                file.write(r.content)\n"
   ]
  },
  {
   "cell_type": "code",
   "execution_count": 5,
   "id": "9fecc021-baf9-409f-afdf-388c896473ae",
   "metadata": {},
   "outputs": [],
   "source": [
    "uberleech('01.05.2018', '03.05.2022')"
   ]
  },
  {
   "cell_type": "code",
   "execution_count": null,
   "id": "b8b3d1b4-71d4-4fa3-9eb7-e46daa37fac9",
   "metadata": {},
   "outputs": [],
   "source": []
  }
 ],
 "metadata": {
  "kernelspec": {
   "display_name": "Python 3 (ipykernel)",
   "language": "python",
   "name": "python3"
  },
  "language_info": {
   "codemirror_mode": {
    "name": "ipython",
    "version": 3
   },
   "file_extension": ".py",
   "mimetype": "text/x-python",
   "name": "python",
   "nbconvert_exporter": "python",
   "pygments_lexer": "ipython3",
   "version": "3.9.2"
  }
 },
 "nbformat": 4,
 "nbformat_minor": 5
}
